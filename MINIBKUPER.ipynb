{
 "cells": [
  {
   "cell_type": "code",
   "execution_count": 1,
   "id": "bfd9176a",
   "metadata": {},
   "outputs": [],
   "source": [
    "import os\n",
    "import subprocess\n",
    "import tkinter as tk\n",
    "from tkinter import filedialog, messagebox\n",
    "\n",
    "class App:\n",
    "    def __init__(self, master):\n",
    "        self.master = master\n",
    "        master.title(\"Cópia de dados\")\n",
    "\n",
    "        # Define as pastas de origem e destino\n",
    "        self.origem = \"\"\n",
    "        self.destino = \"\"\n",
    "\n",
    "        # Cria o botão \"Selecionar Origem\"\n",
    "        self.button_origem = tk.Button(master, text=\"Selecionar Origem\", command=self.select_origem)\n",
    "        self.button_origem.pack()\n",
    "\n",
    "        # Cria o botão \"Selecionar Destino\"\n",
    "        self.button_destino = tk.Button(master, text=\"Selecionar Destino\", command=self.select_destino)\n",
    "        self.button_destino.pack()\n",
    "\n",
    "        # Cria o botão \"Copiar\"\n",
    "        self.button_copiar = tk.Button(master, text=\"Copiar\", command=self.copiar)\n",
    "        self.button_copiar.pack()\n",
    "\n",
    "    def select_origem(self):\n",
    "        self.origem = filedialog.askdirectory()\n",
    "\n",
    "    def select_destino(self):\n",
    "        self.destino = filedialog.askdirectory()\n",
    "\n",
    "    def copiar(self):\n",
    "        if not self.origem:\n",
    "            messagebox.showwarning(\"Aviso\", \"Selecione uma pasta de origem.\")\n",
    "            return\n",
    "        if not self.destino:\n",
    "            messagebox.showwarning(\"Aviso\", \"Selecione uma pasta de destino.\")\n",
    "            return\n",
    "        try:\n",
    "            # Copia a pasta A para o destino\n",
    "            subprocess.check_call(['rsync', '-a', '--info=progress2', os.path.join(self.origem, 'A'), self.destino])\n",
    "            # Copia a pasta B para o destino\n",
    "            subprocess.check_call(['rsync', '-a', '--info=progress2', os.path.join(self.origem, 'B'), self.destino])\n",
    "            messagebox.showinfo(\"Sucesso\", \"Cópia concluída com sucesso!\")\n",
    "        except subprocess.CalledProcessError as e:\n",
    "            messagebox.showerror(\"Erro\", f\"Ocorreu um erro ao copiar os dados: {e}\")\n",
    "\n",
    "root = tk.Tk()\n",
    "app = App(root)\n",
    "root.mainloop()\n"
   ]
  },
  {
   "cell_type": "code",
   "execution_count": null,
   "id": "ef0c34a5",
   "metadata": {},
   "outputs": [],
   "source": []
  }
 ],
 "metadata": {
  "kernelspec": {
   "display_name": "Python 3 (ipykernel)",
   "language": "python",
   "name": "python3"
  },
  "language_info": {
   "codemirror_mode": {
    "name": "ipython",
    "version": 3
   },
   "file_extension": ".py",
   "mimetype": "text/x-python",
   "name": "python",
   "nbconvert_exporter": "python",
   "pygments_lexer": "ipython3",
   "version": "3.10.6"
  }
 },
 "nbformat": 4,
 "nbformat_minor": 5
}
